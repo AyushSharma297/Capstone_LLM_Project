{
 "cells": [
  {
   "cell_type": "markdown",
   "metadata": {},
   "source": [
    "### Contents\n",
    "1. PIP\n",
    "2. Virtual  Environment"
   ]
  },
  {
   "cell_type": "markdown",
   "metadata": {},
   "source": [
    "### PIP\n",
    "1.  *pip list* `check the pre-installed packages on environment by running the pip list command.`\n",
    "2.  *pip freeze* `it returns the list of packages installed on an environment in a correct format to reproduce the environment with the exact package versions the project requires.`\n",
    "3.  *pip install \"Versions\"*\n",
    "    1.  *pip install pandas==1.1.1* ` install a specific version of the package.`\n",
    "    2.  *pip install 'pandas<1.2'* ` install any version of pandas before version 1.2.`\n",
    "    3.  *pip install 'pandas>0.25.3'* `install the pandas package after version 0.25.3 `\n",
    "4.  *cat requirements.txt* `creates a text file named requirements.txt in the current folder`\n",
    "5. *pip freeze > requirements.txt* ` reproduce the environment with the exact package versions the project requires`\n",
    "\n",
    "\n"
   ]
  },
  {
   "cell_type": "markdown",
   "metadata": {},
   "source": []
  },
  {
   "cell_type": "markdown",
   "metadata": {},
   "source": [
    "### Virtual Environment\n",
    "1.  *python3 -m venv path/name_venv* `Making a  virtual environment`\n",
    "2.  *py -3.10 -m venv path/name_venv* `Making Venv with specified version`\n",
    "3.  Activate\n",
    "    1. *source path_venv/bin/activate* `Activating the virtual environment in Linux`\n",
    "    2. *venv_name\\Scripts\\Activate.ps1* `Activating the virtual environment in Windows Powershell`\n",
    "        - *Set-ExecutionPolicy -Scope CurrentUser -ExecutionPolicy Unrestricted* `If faced ExecutionPolicy error`\n",
    "        - *Set-ExecutionPolicy -Scope CurrentUser -ExecutionPolicy restricted* `To Undo`\n",
    "    3. *venv_name\\Scripts\\activate.bat* `Activating the virtual environment in Windows CMD`\n",
    "4.  *pip install -r requirements.txt* `Installing packages from requirements file`\n",
    "5. *python -m pip install --no-cache-dir -r requirements.txt* `Installing packages from requirements file without loading cached files`\n",
    "6.  *deactivate* `Deactivating  the virtual environment`\n",
    "7.  *rm -rf path/name* `to delete a virtual environment, you can simply delete its folder`\n",
    "8. *pip show package name* `to check the installed version of package in Python`\n"
   ]
  },
  {
   "cell_type": "markdown",
   "metadata": {},
   "source": []
  }
 ],
 "metadata": {
  "kernelspec": {
   "display_name": "Python 3",
   "language": "python",
   "name": "python3"
  },
  "language_info": {
   "codemirror_mode": {
    "name": "ipython",
    "version": 3
   },
   "file_extension": ".py",
   "mimetype": "text/x-python",
   "name": "python",
   "nbconvert_exporter": "python",
   "pygments_lexer": "ipython3",
   "version": "3.12.2"
  }
 },
 "nbformat": 4,
 "nbformat_minor": 2
}
